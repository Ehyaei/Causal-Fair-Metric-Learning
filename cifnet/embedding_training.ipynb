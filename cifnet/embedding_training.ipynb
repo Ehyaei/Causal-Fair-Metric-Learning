{
 "cells": [
  {
   "cell_type": "code",
   "execution_count": 12,
   "id": "initial_id",
   "metadata": {
    "collapsed": true,
    "ExecuteTime": {
     "end_time": "2023-09-20T11:02:34.580375300Z",
     "start_time": "2023-09-20T11:02:34.564633100Z"
    }
   },
   "outputs": [],
   "source": [
    "import matplotlib.pyplot as plt\n",
    "from cifnet.scm_synthetic import *\n",
    "from cifnet.dissimilarities import *\n",
    "from cifnet.data_utils import *\n",
    "from cifnet.networks import EmbeddingNet, SiameseNet"
   ]
  },
  {
   "cell_type": "markdown",
   "source": [
    "# Generate Samples"
   ],
   "metadata": {
    "collapsed": false
   },
   "id": "d284a1ee0d9fa8d3"
  },
  {
   "cell_type": "code",
   "execution_count": 22,
   "outputs": [],
   "source": [
    "data_name = \"lin\"               # data_name: data name includes compas, adult, lin, nlm, imf, loan\n",
    "data_type = \"contrastive\"       # data_type: contrastive, triplet\n",
    "num_points = 1000               # num_points: number of points to generate\n",
    "margin = 0.1                    # margin: margin for triplet loss or diameter for distance loss\n",
    "Q_metric = l_p                  # Q_metric: semi-latent metric\n",
    "hidden_dim = 1000\n",
    "output_type = \"embedding\"       # output_type: type of the output, either label or embedding\n",
    "epochs = 10\n",
    "method='spearman'\n",
    "decorrelation_loss_fn = \"xicor\" # decorrelation_loss_fn: type of the decorrelation loss function, either spearman or xicor of None"
   ],
   "metadata": {
    "collapsed": false,
    "ExecuteTime": {
     "end_time": "2023-09-20T11:19:07.488888800Z",
     "start_time": "2023-09-20T11:19:07.473278900Z"
    }
   },
   "id": "a58fee33116ad3b5"
  },
  {
   "cell_type": "code",
   "execution_count": 23,
   "outputs": [],
   "source": [
    "scm = get_scm(data_name)\n",
    "len(scm.mean)\n",
    "input_dim = len(scm.mean)\n",
    "embedding_dim = len(scm.mean) - len(scm.get_sensitive())"
   ],
   "metadata": {
    "collapsed": false,
    "ExecuteTime": {
     "end_time": "2023-09-20T11:19:09.025565300Z",
     "start_time": "2023-09-20T11:19:09.018526400Z"
    }
   },
   "id": "eb245b8053f47ed"
  },
  {
   "cell_type": "markdown",
   "source": [
    "# Load Data"
   ],
   "metadata": {
    "collapsed": false
   },
   "id": "dc88bc7bd6a05714"
  },
  {
   "cell_type": "code",
   "execution_count": 24,
   "outputs": [],
   "source": [
    "data_dict = learning_data(data_name, data_type, num_points, margin, Q_metric)\n",
    "train_dict, test_dict = dict_to_train_test(data_dict)"
   ],
   "metadata": {
    "collapsed": false,
    "ExecuteTime": {
     "end_time": "2023-09-20T11:19:11.676271900Z",
     "start_time": "2023-09-20T11:19:11.485528400Z"
    }
   },
   "id": "8ea21b421d2fba88"
  },
  {
   "cell_type": "markdown",
   "source": [
    "# Choose The Model"
   ],
   "metadata": {
    "collapsed": false
   },
   "id": "ddb7e197e2621c13"
  },
  {
   "cell_type": "code",
   "execution_count": 25,
   "outputs": [],
   "source": [
    "embedding_net = EmbeddingNet(input_dim, embedding_dim, hidden_dim)\n",
    "model = SiameseNet(embedding_net, Q_metric, margin)"
   ],
   "metadata": {
    "collapsed": false,
    "ExecuteTime": {
     "end_time": "2023-09-20T11:19:12.935292700Z",
     "start_time": "2023-09-20T11:19:12.919648600Z"
    }
   },
   "id": "403ea1c1cb800668"
  },
  {
   "cell_type": "code",
   "execution_count": 26,
   "outputs": [],
   "source": [
    "from cifnet.trainers import Trainer\n",
    "trainer = Trainer()"
   ],
   "metadata": {
    "collapsed": false,
    "ExecuteTime": {
     "end_time": "2023-09-20T11:19:13.518420800Z",
     "start_time": "2023-09-20T11:19:13.509149100Z"
    }
   },
   "id": "6571d8c3ba1eb90a"
  },
  {
   "cell_type": "code",
   "execution_count": 27,
   "outputs": [
    {
     "ename": "AssertionError",
     "evalue": "",
     "output_type": "error",
     "traceback": [
      "\u001B[1;31m---------------------------------------------------------------------------\u001B[0m",
      "\u001B[1;31mAssertionError\u001B[0m                            Traceback (most recent call last)",
      "Cell \u001B[1;32mIn[27], line 1\u001B[0m\n\u001B[1;32m----> 1\u001B[0m \u001B[43mtrainer\u001B[49m\u001B[38;5;241;43m.\u001B[39;49m\u001B[43mtrain\u001B[49m\u001B[43m(\u001B[49m\u001B[43mmodel\u001B[49m\u001B[43m,\u001B[49m\u001B[43m \u001B[49m\u001B[43mdata_dict\u001B[49m\u001B[43m,\u001B[49m\u001B[43m \u001B[49m\u001B[43mdata_type\u001B[49m\u001B[43m,\u001B[49m\u001B[43m \u001B[49m\u001B[43moutput_type\u001B[49m\u001B[43m,\u001B[49m\u001B[43m \u001B[49m\u001B[43mepochs\u001B[49m\u001B[43m,\u001B[49m\u001B[43m \u001B[49m\u001B[43mdecorrelation_loss_fn\u001B[49m\u001B[43m,\u001B[49m\u001B[43m \u001B[49m\u001B[43mmargin\u001B[49m\u001B[43m,\u001B[49m\u001B[43m \u001B[49m\u001B[43mQ_metric\u001B[49m\u001B[43m)\u001B[49m\n",
      "File \u001B[1;32m~\\OneDrive\\Desktop\\PhD\\Codes\\Fair_Metric_Learning\\cifnet\\trainers.py:62\u001B[0m, in \u001B[0;36mTrainer.train\u001B[1;34m(self, model, data_dict, data_type, output_type, epochs, decorrelation_loss_fn, margin, Q_metric, method)\u001B[0m\n\u001B[0;32m     59\u001B[0m optimizer\u001B[38;5;241m.\u001B[39mzero_grad()\n\u001B[0;32m     61\u001B[0m loss \u001B[38;5;241m=\u001B[39m loss_fn(batch, data_type, output_type, margin, Q_metric)\n\u001B[1;32m---> 62\u001B[0m \u001B[38;5;28;01mif\u001B[39;00m decorrelation_loss_fn \u001B[38;5;129;01mis\u001B[39;00m \u001B[38;5;129;01mnot\u001B[39;00m \u001B[38;5;28;01mNone\u001B[39;00m:\n\u001B[0;32m     63\u001B[0m     dec_loss \u001B[38;5;241m=\u001B[39m dec_loss_fn(model, batch, data_type, method)\n\u001B[0;32m     64\u001B[0m     loss \u001B[38;5;241m+\u001B[39m\u001B[38;5;241m=\u001B[39m \u001B[38;5;28mself\u001B[39m\u001B[38;5;241m.\u001B[39mlambda_reg \u001B[38;5;241m*\u001B[39m dec_loss\n",
      "File \u001B[1;32m~\\OneDrive\\Desktop\\PhD\\Codes\\Fair_Metric_Learning\\cifnet\\losses.py:144\u001B[0m, in \u001B[0;36mloss_fn\u001B[1;34m(model, batch, data_type, output_type, margin, Q_metric)\u001B[0m\n\u001B[0;32m    142\u001B[0m     loss \u001B[38;5;241m=\u001B[39m TripletLoss(margin, Q_metric)(O_a, O_pos, O_neg)\n\u001B[0;32m    143\u001B[0m \u001B[38;5;28;01melse\u001B[39;00m:\n\u001B[1;32m--> 144\u001B[0m     \u001B[38;5;28;01mraise\u001B[39;00m \u001B[38;5;167;01mAssertionError\u001B[39;00m\n\u001B[0;32m    145\u001B[0m \u001B[38;5;28;01mreturn\u001B[39;00m loss\n",
      "\u001B[1;31mAssertionError\u001B[0m: "
     ]
    }
   ],
   "source": [
    "trainer.train(model, data_dict, data_type, output_type, epochs, decorrelation_loss_fn, margin, Q_metric)"
   ],
   "metadata": {
    "collapsed": false,
    "ExecuteTime": {
     "end_time": "2023-09-20T11:19:14.077079600Z",
     "start_time": "2023-09-20T11:19:13.981094100Z"
    }
   },
   "id": "4ee598f4aa3baac2"
  },
  {
   "cell_type": "code",
   "execution_count": 41,
   "outputs": [],
   "source": [
    "x = train_dict['X1']\n",
    "x = x.detach().numpy()\n",
    "n, k = x.shape\n",
    "m = np.zeros((k, k), np.float32)"
   ],
   "metadata": {
    "collapsed": false,
    "ExecuteTime": {
     "end_time": "2023-09-20T12:27:30.253199200Z",
     "start_time": "2023-09-20T12:27:30.233196500Z"
    }
   },
   "id": "154c8549064e5180"
  },
  {
   "cell_type": "code",
   "execution_count": 42,
   "outputs": [
    {
     "data": {
      "text/plain": "array([[0., 0., 0.],\n       [0., 0., 0.],\n       [0., 0., 0.]], dtype=float32)"
     },
     "execution_count": 42,
     "metadata": {},
     "output_type": "execute_result"
    }
   ],
   "source": [
    "m"
   ],
   "metadata": {
    "collapsed": false,
    "ExecuteTime": {
     "end_time": "2023-09-20T12:27:32.332818300Z",
     "start_time": "2023-09-20T12:27:32.299314900Z"
    }
   },
   "id": "9da1648906a01709"
  },
  {
   "cell_type": "code",
   "execution_count": 38,
   "outputs": [
    {
     "data": {
      "text/plain": "dtype('float32')"
     },
     "execution_count": 38,
     "metadata": {},
     "output_type": "execute_result"
    }
   ],
   "source": [
    "x.dtype"
   ],
   "metadata": {
    "collapsed": false,
    "ExecuteTime": {
     "end_time": "2023-09-20T12:26:31.702408Z",
     "start_time": "2023-09-20T12:26:31.663563600Z"
    }
   },
   "id": "b04a4907dcf0fdb8"
  },
  {
   "cell_type": "code",
   "execution_count": 30,
   "outputs": [],
   "source": [
    "import os\n",
    "import pandas as pd\n",
    "import numpy as np\n",
    "path='../results/'\n",
    "def result_to_DF(path='../results/', save ='../plots/'):\n",
    "    files = os.listdir(path)\n",
    "    df_cols = [\"data\", \"type\", \"decorrelation\", \"output_type\", \"metric\", \"seed\", \"margin\", \"lambda\", \"indicator\"]\n",
    "    split_columns = [s.replace('.npy', '').split(\"_\") for s in files]\n",
    "    df = pd.DataFrame(split_columns, columns=df_cols)\n",
    "    df['value'] = np.nan\n",
    "    for i in range(len(files)):\n",
    "            df.loc[i, \"value\"] = float(np.load(path + files[i]))\n",
    "\n",
    "    df.to_csv(save + 'results.csv')\n",
    "    return \"File saved to \" + save + 'results.csv'"
   ],
   "metadata": {
    "collapsed": false,
    "ExecuteTime": {
     "end_time": "2023-09-21T13:24:49.409989700Z",
     "start_time": "2023-09-21T13:24:49.376579300Z"
    }
   },
   "id": "99e2b94a4e33be01"
  },
  {
   "cell_type": "code",
   "execution_count": 31,
   "outputs": [
    {
     "name": "stderr",
     "output_type": "stream",
     "text": [
      "C:\\Users\\ahmad\\AppData\\Local\\Temp\\ipykernel_15488\\1352670106.py:12: DeprecationWarning: Conversion of an array with ndim > 0 to a scalar is deprecated, and will error in future. Ensure you extract a single element from your array before performing this operation. (Deprecated NumPy 1.25.)\n",
      "  df.loc[i, \"value\"] = float(np.load(path + files[i]))\n"
     ]
    },
    {
     "data": {
      "text/plain": "'File saved to ../plots/results.csv'"
     },
     "execution_count": 31,
     "metadata": {},
     "output_type": "execute_result"
    }
   ],
   "source": [
    "result_to_DF()"
   ],
   "metadata": {
    "collapsed": false,
    "ExecuteTime": {
     "end_time": "2023-09-21T13:24:51.043214300Z",
     "start_time": "2023-09-21T13:24:50.054955900Z"
    }
   },
   "id": "46a80f63cd6ee85d"
  },
  {
   "cell_type": "code",
   "execution_count": null,
   "outputs": [],
   "source": [
    "def result_to_DF(path='results/'):\n",
    "    df_cols = ['dataset', 'trainer', 'model', 'lambd', 'seed', 'epsilon']\n",
    "    indicators = ['accs', 'mccs', 'uai_05', 'uai_01', 'uai_cf', 'uai_ar_05', 'uai_ar_01']\n",
    "\n",
    "    def indicator_to_DF(path, indicator):\n",
    "        all_files = os.listdir(path)\n",
    "        files = [f for f in all_files if indicator in f]\n",
    "        split_columns = [s.replace(indicator, '').replace('.npy', '').split(\"_\") for s in files]\n",
    "        df = pd.DataFrame(split_columns, columns=df_cols).dropna()\n",
    "        df[indicator] = np.nan\n",
    "        for i in range(len(files)):\n",
    "            df.loc[i, indicator] = float(np.load(path + files[i]))\n",
    "        return df\n",
    "\n",
    "    merged_df = indicator_to_DF(path, indicators[0])\n",
    "    for ind in indicators[1:]:\n",
    "        merged_df = merged_df.merge(indicator_to_DF(path, ind), how='outer', on=df_cols)\n",
    "\n",
    "    merged_df.drop(columns=['lambd', 'epsilon'], inplace=True)\n",
    "    merged_df['trainer'] = merged_df['trainer'].str.split(\"-\").str.get(0)\n",
    "    merged_df['seed'] = merged_df['seed'].str.replace(\"s\", \"\")\n",
    "\n",
    "    return merged_df"
   ],
   "metadata": {
    "collapsed": false
   },
   "id": "1a9c468c4a81e6d4"
  }
 ],
 "metadata": {
  "kernelspec": {
   "display_name": "Python 3",
   "language": "python",
   "name": "python3"
  },
  "language_info": {
   "codemirror_mode": {
    "name": "ipython",
    "version": 2
   },
   "file_extension": ".py",
   "mimetype": "text/x-python",
   "name": "python",
   "nbconvert_exporter": "python",
   "pygments_lexer": "ipython2",
   "version": "2.7.6"
  }
 },
 "nbformat": 4,
 "nbformat_minor": 5
}
